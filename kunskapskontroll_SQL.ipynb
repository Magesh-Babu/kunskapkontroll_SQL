{
 "cells": [
  {
   "cell_type": "code",
   "execution_count": 1,
   "id": "6f3eff9b",
   "metadata": {},
   "outputs": [
    {
     "name": "stdout",
     "output_type": "stream",
     "text": [
      "Requirement already satisfied: sqlalchemy in c:\\users\\dines\\anaconda3\\envs\\pystat\\lib\\site-packages (2.0.23)\n",
      "Requirement already satisfied: typing-extensions>=4.2.0 in c:\\users\\dines\\anaconda3\\envs\\pystat\\lib\\site-packages (from sqlalchemy) (4.7.1)\n",
      "Requirement already satisfied: greenlet!=0.4.17 in c:\\users\\dines\\anaconda3\\envs\\pystat\\lib\\site-packages (from sqlalchemy) (3.0.3)\n",
      "Requirement already satisfied: pyodbc in c:\\users\\dines\\anaconda3\\envs\\pystat\\lib\\site-packages (5.0.1)\n"
     ]
    }
   ],
   "source": [
    "!pip install sqlalchemy\n",
    "!pip install pyodbc"
   ]
  },
  {
   "cell_type": "code",
   "execution_count": 2,
   "id": "83f60473",
   "metadata": {},
   "outputs": [],
   "source": [
    "## Importing all the necessary libraries\n",
    "from sqlalchemy import create_engine, Table, inspect\n",
    "import pandas as pd\n",
    "import numpy as np\n",
    "import scipy.stats as stats\n",
    "import matplotlib.pyplot as plt"
   ]
  },
  {
   "cell_type": "markdown",
   "id": "c258f05d",
   "metadata": {},
   "source": [
    "#  Creating Engine"
   ]
  },
  {
   "cell_type": "code",
   "execution_count": 3,
   "id": "c8249c00",
   "metadata": {},
   "outputs": [],
   "source": [
    "def new_engine(dialect, server, database, user=None, password=None, integrated_security=True):\n",
    "    if integrated_security:\n",
    "        # For Windows authentication\n",
    "        eng = f\"{dialect}://{server}/{database}?trusted_connection=yes&driver=ODBC+Driver+17+for+SQL+Server\"\n",
    "    else:\n",
    "        # For SQL Server authentication\n",
    "        eng = f\"{dialect}://{user}:{password}@{server}/{database}?driver=ODBC+Driver+17+for+SQL+Server\"\n",
    "    print(eng)\n",
    "    return create_engine(eng)"
   ]
  },
  {
   "cell_type": "code",
   "execution_count": 4,
   "id": "e1681b8b",
   "metadata": {},
   "outputs": [
    {
     "name": "stdout",
     "output_type": "stream",
     "text": [
      "mssql://DESKTOP-H7O4R1L/AdventureWorks2022?trusted_connection=yes&driver=ODBC+Driver+17+for+SQL+Server\n"
     ]
    }
   ],
   "source": [
    "# For Windows authentication\n",
    "# Replace the server argument with the Server Name found when logging into SQL Server Management Studio \n",
    "# OR\n",
    "# For SQL Server authentication\n",
    "# Replace the server, user and password argument with the Server Name, username and password\n",
    "engine = new_engine('mssql', 'DESKTOP-H7O4R1L', 'AdventureWorks2022', integrated_security=True)"
   ]
  },
  {
   "cell_type": "code",
   "execution_count": 5,
   "id": "21ac282e",
   "metadata": {},
   "outputs": [
    {
     "name": "stdout",
     "output_type": "stream",
     "text": [
      "<class 'sqlalchemy.engine.base.Engine'>\n"
     ]
    }
   ],
   "source": [
    "print(type(engine))"
   ]
  },
  {
   "cell_type": "markdown",
   "id": "03a80d06",
   "metadata": {},
   "source": [
    "# Creating Connection"
   ]
  },
  {
   "cell_type": "code",
   "execution_count": 6,
   "id": "5be3d0bb",
   "metadata": {},
   "outputs": [],
   "source": [
    "connection = engine.connect()"
   ]
  },
  {
   "cell_type": "code",
   "execution_count": 7,
   "id": "d2dbdfef",
   "metadata": {},
   "outputs": [
    {
     "name": "stdout",
     "output_type": "stream",
     "text": [
      "<class 'sqlalchemy.engine.base.Connection'>\n"
     ]
    }
   ],
   "source": [
    "print(type(connection))"
   ]
  },
  {
   "cell_type": "markdown",
   "id": "06f888b4",
   "metadata": {},
   "source": [
    "# Inspecting the Database"
   ]
  },
  {
   "cell_type": "code",
   "execution_count": 8,
   "id": "f30227e1",
   "metadata": {},
   "outputs": [
    {
     "name": "stdout",
     "output_type": "stream",
     "text": [
      "['db_accessadmin', 'db_backupoperator', 'db_datareader', 'db_datawriter', 'db_ddladmin', 'db_denydatareader', 'db_denydatawriter', 'db_owner', 'db_securityadmin', 'dbo', 'guest', 'HumanResources', 'INFORMATION_SCHEMA', 'Person', 'Production', 'Purchasing', 'Sales', 'sys']\n"
     ]
    }
   ],
   "source": [
    "# To get all the schema name from the database\n",
    "inspector = inspect(engine)\n",
    "schemas = inspector.get_schema_names()\n",
    "print(schemas)"
   ]
  },
  {
   "cell_type": "code",
   "execution_count": 9,
   "id": "be76aa64",
   "metadata": {},
   "outputs": [
    {
     "name": "stdout",
     "output_type": "stream",
     "text": [
      "db_accessadmin\n",
      "db_backupoperator\n",
      "db_datareader\n",
      "db_datawriter\n",
      "db_ddladmin\n",
      "db_denydatareader\n",
      "db_denydatawriter\n",
      "db_owner\n",
      "db_securityadmin\n",
      "dbo\n",
      "guest\n",
      "HumanResources\n",
      "INFORMATION_SCHEMA\n",
      "Person\n",
      "Production\n",
      "Purchasing\n",
      "Sales\n",
      "sys\n"
     ]
    }
   ],
   "source": [
    "for schema in schemas:\n",
    "    print(schema)"
   ]
  },
  {
   "cell_type": "code",
   "execution_count": 10,
   "id": "448e2f34",
   "metadata": {},
   "outputs": [
    {
     "name": "stdout",
     "output_type": "stream",
     "text": [
      "Number of schemas in the database Adventureworks2022 -  18\n"
     ]
    }
   ],
   "source": [
    "print(\"Number of schemas in the database Adventureworks2022 - \",len(schemas))"
   ]
  },
  {
   "cell_type": "code",
   "execution_count": null,
   "id": "e0529789",
   "metadata": {},
   "outputs": [],
   "source": []
  },
  {
   "cell_type": "code",
   "execution_count": 11,
   "id": "a187744a",
   "metadata": {},
   "outputs": [
    {
     "name": "stdout",
     "output_type": "stream",
     "text": [
      "All tables in all schemas:\n",
      "[('dbo', 'AWBuildVersion'), ('dbo', 'DatabaseLog'), ('dbo', 'ErrorLog'), ('HumanResources', 'Department'), ('HumanResources', 'Employee'), ('HumanResources', 'EmployeeDepartmentHistory'), ('HumanResources', 'EmployeePayHistory'), ('HumanResources', 'JobCandidate'), ('HumanResources', 'Shift'), ('Person', 'Address'), ('Person', 'AddressType'), ('Person', 'BusinessEntity'), ('Person', 'BusinessEntityAddress'), ('Person', 'BusinessEntityContact'), ('Person', 'ContactType'), ('Person', 'CountryRegion'), ('Person', 'EmailAddress'), ('Person', 'MyPersonPhoneTable'), ('Person', 'Password'), ('Person', 'Person'), ('Person', 'PersonPhone'), ('Person', 'PhoneNumberType'), ('Person', 'StateProvince'), ('Production', 'BillOfMaterials'), ('Production', 'Culture'), ('Production', 'Document'), ('Production', 'Illustration'), ('Production', 'Location'), ('Production', 'Product'), ('Production', 'ProductCategory'), ('Production', 'ProductCostHistory'), ('Production', 'ProductDescription'), ('Production', 'ProductDocument'), ('Production', 'ProductInventory'), ('Production', 'ProductListPriceHistory'), ('Production', 'ProductModel'), ('Production', 'ProductModelIllustration'), ('Production', 'ProductModelProductDescriptionCulture'), ('Production', 'ProductPhoto'), ('Production', 'ProductProductPhoto'), ('Production', 'ProductReview'), ('Production', 'ProductSubcategory'), ('Production', 'ScrapReason'), ('Production', 'TransactionHistory'), ('Production', 'TransactionHistoryArchive'), ('Production', 'UnitMeasure'), ('Production', 'WorkOrder'), ('Production', 'WorkOrderRouting'), ('Purchasing', 'ProductVendor'), ('Purchasing', 'PurchaseOrderDetail'), ('Purchasing', 'PurchaseOrderHeader'), ('Purchasing', 'ShipMethod'), ('Purchasing', 'Vendor'), ('Sales', 'CountryRegionCurrency'), ('Sales', 'CreditCard'), ('Sales', 'Currency'), ('Sales', 'CurrencyRate'), ('Sales', 'Customer'), ('Sales', 'PersonCreditCard'), ('Sales', 'SalesOrderDetail'), ('Sales', 'SalesOrderHeader'), ('Sales', 'SalesOrderHeaderSalesReason'), ('Sales', 'SalesPerson'), ('Sales', 'SalesPersonQuotaHistory'), ('Sales', 'SalesReason'), ('Sales', 'SalesTaxRate'), ('Sales', 'SalesTerritory'), ('Sales', 'SalesTerritoryHistory'), ('Sales', 'ShoppingCartItem'), ('Sales', 'SpecialOffer'), ('Sales', 'SpecialOfferProduct'), ('Sales', 'Store')]\n"
     ]
    }
   ],
   "source": [
    "# Print all table names in all schemas\n",
    "all_table_names = []\n",
    "for schema_name in inspector.get_schema_names():\n",
    "    tables = inspector.get_table_names(schema=schema_name)\n",
    "    all_table_names.extend([(schema_name, table) for table in tables])\n",
    "\n",
    "print(\"All tables in all schemas:\")\n",
    "print(all_table_names)"
   ]
  },
  {
   "cell_type": "code",
   "execution_count": 12,
   "id": "0ae39105",
   "metadata": {},
   "outputs": [
    {
     "name": "stdout",
     "output_type": "stream",
     "text": [
      "Number of tables in the database Adventureworks2022 -  72\n"
     ]
    }
   ],
   "source": [
    "print(\"Number of tables in the database Adventureworks2022 - \",len(all_table_names))"
   ]
  },
  {
   "cell_type": "code",
   "execution_count": null,
   "id": "81eb17d1",
   "metadata": {},
   "outputs": [],
   "source": []
  },
  {
   "cell_type": "code",
   "execution_count": 13,
   "id": "2030ea6b",
   "metadata": {},
   "outputs": [
    {
     "name": "stdout",
     "output_type": "stream",
     "text": [
      "['BillOfMaterials', 'Culture', 'Document', 'Illustration', 'Location', 'Product', 'ProductCategory', 'ProductCostHistory', 'ProductDescription', 'ProductDocument', 'ProductInventory', 'ProductListPriceHistory', 'ProductModel', 'ProductModelIllustration', 'ProductModelProductDescriptionCulture', 'ProductPhoto', 'ProductProductPhoto', 'ProductReview', 'ProductSubcategory', 'ScrapReason', 'TransactionHistory', 'TransactionHistoryArchive', 'UnitMeasure', 'WorkOrder', 'WorkOrderRouting']\n"
     ]
    }
   ],
   "source": [
    "# To check no of tables in Production schema.\n",
    "inspector = inspect(engine)\n",
    "tables = inspector.get_table_names('Production')\n",
    "print(tables)"
   ]
  },
  {
   "cell_type": "code",
   "execution_count": 14,
   "id": "347bbe4c",
   "metadata": {},
   "outputs": [
    {
     "name": "stdout",
     "output_type": "stream",
     "text": [
      "Number of tables in Production schema -  25\n"
     ]
    }
   ],
   "source": [
    "print(\"Number of tables in Production schema - \",len(tables))"
   ]
  },
  {
   "cell_type": "code",
   "execution_count": 15,
   "id": "66a1faaf",
   "metadata": {},
   "outputs": [
    {
     "name": "stdout",
     "output_type": "stream",
     "text": [
      "ProductID\n",
      "Name\n",
      "ProductNumber\n",
      "MakeFlag\n",
      "FinishedGoodsFlag\n",
      "Color\n",
      "SafetyStockLevel\n",
      "ReorderPoint\n",
      "StandardCost\n",
      "ListPrice\n",
      "Size\n",
      "SizeUnitMeasureCode\n",
      "WeightUnitMeasureCode\n",
      "Weight\n",
      "DaysToManufacture\n",
      "ProductLine\n",
      "Class\n",
      "Style\n",
      "ProductSubcategoryID\n",
      "ProductModelID\n",
      "SellStartDate\n",
      "SellEndDate\n",
      "DiscontinuedDate\n",
      "rowguid\n",
      "ModifiedDate\n"
     ]
    }
   ],
   "source": [
    "# To inspect specific table columns in a specific schema and its useful to contruct queries.\n",
    "\n",
    "for col in inspector.get_columns(table_name='Product', schema='Production'):\n",
    "    print(col['name'])"
   ]
  },
  {
   "cell_type": "code",
   "execution_count": 16,
   "id": "499ca475",
   "metadata": {},
   "outputs": [
    {
     "name": "stdout",
     "output_type": "stream",
     "text": [
      "ProductID\n",
      "StartDate\n",
      "EndDate\n",
      "StandardCost\n",
      "ModifiedDate\n"
     ]
    }
   ],
   "source": [
    "for col in inspector.get_columns(table_name='ProductCostHistory', schema='Production'):\n",
    "    print(col['name'])"
   ]
  },
  {
   "cell_type": "code",
   "execution_count": 17,
   "id": "5b78ad8a",
   "metadata": {},
   "outputs": [
    {
     "name": "stdout",
     "output_type": "stream",
     "text": [
      "ProductID\n",
      "StartDate\n",
      "EndDate\n",
      "ListPrice\n",
      "ModifiedDate\n"
     ]
    }
   ],
   "source": [
    "for col in inspector.get_columns(table_name='ProductListPriceHistory', schema='Production'):\n",
    "    print(col['name'])"
   ]
  },
  {
   "cell_type": "code",
   "execution_count": 18,
   "id": "c836a7c3",
   "metadata": {},
   "outputs": [
    {
     "name": "stdout",
     "output_type": "stream",
     "text": [
      "TransactionID\n",
      "ProductID\n",
      "ReferenceOrderID\n",
      "ReferenceOrderLineID\n",
      "TransactionDate\n",
      "TransactionType\n",
      "Quantity\n",
      "ActualCost\n",
      "ModifiedDate\n"
     ]
    }
   ],
   "source": [
    "for col in inspector.get_columns(table_name='TransactionHistory', schema='Production'):\n",
    "    print(col['name'])"
   ]
  },
  {
   "cell_type": "markdown",
   "id": "8cbc8b34",
   "metadata": {},
   "source": [
    "# Querying the Database"
   ]
  },
  {
   "cell_type": "code",
   "execution_count": 19,
   "id": "425aebe9",
   "metadata": {},
   "outputs": [],
   "source": [
    "## I chosed to work on production schema which has CostPrice, ListPrice, TotalSales and ProductionType.\n",
    "## I chosed it because it has price and sales data which are very useful to optimize the business.\n",
    "## These are all data i have taken further to statistical analysis.\n",
    "\n",
    "sql_code =\"\"\"\n",
    "-- Creating the CTE expression name and column list.\n",
    "WITH CTE1 (ProductID, StandardCost)\n",
    "AS\n",
    "(\n",
    "\tSELECT ProductID,\n",
    "\tAVG(StandardCost) \n",
    "\tFROM Production.ProductCostHistory\n",
    "\tGROUP BY ProductID\n",
    "),\n",
    "\n",
    "CTE2 (ProductID, ListPrice)\n",
    "AS\n",
    "(\n",
    "\tSELECT ProductID,\n",
    "\tAVG(ListPrice)\n",
    "\tFROM Production.ProductListPriceHistory\n",
    "\tGROUP BY ProductID\n",
    ")\n",
    "\n",
    "SELECT A.ProductID,\n",
    "\tC.[Name],\n",
    "\tC.MakeFlag as InhouseProduct,\n",
    "\tD.TotalQuantity as CurrentStock,\n",
    "\tA.StandardCost,\n",
    "\tB.ListPrice as SellingPrice,\n",
    "\tE.TotalQuantity as TotalSales\n",
    "FROM CTE1 as A INNER JOIN CTE2 as B\n",
    "\tON A.ProductID = B.ProductID\n",
    "LEFT JOIN Production.Product as C\n",
    "\tON A.ProductID = C.ProductID\n",
    "LEFT JOIN \n",
    "-- Creating Subquery\n",
    "(\n",
    "\tSELECT ProductID,\n",
    "\tSUM(Quantity) as TotalQuantity\n",
    "\tFROM Production.ProductInventory\n",
    "\tGROUP BY ProductID\n",
    ")\n",
    "\tas D\n",
    "\tON A.ProductID = D.ProductID\n",
    "LEFT JOIN \n",
    "(\n",
    "\tSELECT ProductID,\n",
    "\tSUM(Quantity) as TotalQuantity\n",
    "\tFROM Production.TransactionHistory\n",
    "\tGROUP BY ProductID\n",
    ")\n",
    "\tas E\n",
    "\tON A.ProductID = E.ProductID\n",
    "ORDER BY ProductID ASC\"\"\"\n"
   ]
  },
  {
   "cell_type": "code",
   "execution_count": 20,
   "id": "7d58df96",
   "metadata": {},
   "outputs": [],
   "source": [
    "## Reading the data from SQl server and store it.\n",
    "sql_df = pd.read_sql(sql=sql_code, con=connection)"
   ]
  },
  {
   "cell_type": "markdown",
   "id": "adcaae2c",
   "metadata": {},
   "source": [
    "# Data Inspection"
   ]
  },
  {
   "cell_type": "code",
   "execution_count": 21,
   "id": "d179081f",
   "metadata": {},
   "outputs": [
    {
     "data": {
      "text/html": [
       "<div>\n",
       "<style scoped>\n",
       "    .dataframe tbody tr th:only-of-type {\n",
       "        vertical-align: middle;\n",
       "    }\n",
       "\n",
       "    .dataframe tbody tr th {\n",
       "        vertical-align: top;\n",
       "    }\n",
       "\n",
       "    .dataframe thead th {\n",
       "        text-align: right;\n",
       "    }\n",
       "</style>\n",
       "<table border=\"1\" class=\"dataframe\">\n",
       "  <thead>\n",
       "    <tr style=\"text-align: right;\">\n",
       "      <th></th>\n",
       "      <th>ProductID</th>\n",
       "      <th>Name</th>\n",
       "      <th>InhouseProduct</th>\n",
       "      <th>CurrentStock</th>\n",
       "      <th>StandardCost</th>\n",
       "      <th>SellingPrice</th>\n",
       "      <th>TotalSales</th>\n",
       "    </tr>\n",
       "  </thead>\n",
       "  <tbody>\n",
       "    <tr>\n",
       "      <th>0</th>\n",
       "      <td>707</td>\n",
       "      <td>Sport-100 Helmet, Red</td>\n",
       "      <td>False</td>\n",
       "      <td>288.0</td>\n",
       "      <td>12.9974</td>\n",
       "      <td>34.0928</td>\n",
       "      <td>3542.0</td>\n",
       "    </tr>\n",
       "    <tr>\n",
       "      <th>1</th>\n",
       "      <td>708</td>\n",
       "      <td>Sport-100 Helmet, Black</td>\n",
       "      <td>False</td>\n",
       "      <td>324.0</td>\n",
       "      <td>12.9974</td>\n",
       "      <td>34.0928</td>\n",
       "      <td>3609.0</td>\n",
       "    </tr>\n",
       "    <tr>\n",
       "      <th>2</th>\n",
       "      <td>709</td>\n",
       "      <td>Mountain Bike Socks, M</td>\n",
       "      <td>False</td>\n",
       "      <td>180.0</td>\n",
       "      <td>3.3963</td>\n",
       "      <td>9.5000</td>\n",
       "      <td>NaN</td>\n",
       "    </tr>\n",
       "    <tr>\n",
       "      <th>3</th>\n",
       "      <td>710</td>\n",
       "      <td>Mountain Bike Socks, L</td>\n",
       "      <td>False</td>\n",
       "      <td>216.0</td>\n",
       "      <td>3.3963</td>\n",
       "      <td>9.5000</td>\n",
       "      <td>NaN</td>\n",
       "    </tr>\n",
       "    <tr>\n",
       "      <th>4</th>\n",
       "      <td>711</td>\n",
       "      <td>Sport-100 Helmet, Blue</td>\n",
       "      <td>False</td>\n",
       "      <td>216.0</td>\n",
       "      <td>12.9974</td>\n",
       "      <td>34.0928</td>\n",
       "      <td>3608.0</td>\n",
       "    </tr>\n",
       "  </tbody>\n",
       "</table>\n",
       "</div>"
      ],
      "text/plain": [
       "   ProductID                     Name  InhouseProduct  CurrentStock  \\\n",
       "0        707    Sport-100 Helmet, Red           False         288.0   \n",
       "1        708  Sport-100 Helmet, Black           False         324.0   \n",
       "2        709   Mountain Bike Socks, M           False         180.0   \n",
       "3        710   Mountain Bike Socks, L           False         216.0   \n",
       "4        711   Sport-100 Helmet, Blue           False         216.0   \n",
       "\n",
       "   StandardCost  SellingPrice  TotalSales  \n",
       "0       12.9974       34.0928      3542.0  \n",
       "1       12.9974       34.0928      3609.0  \n",
       "2        3.3963        9.5000         NaN  \n",
       "3        3.3963        9.5000         NaN  \n",
       "4       12.9974       34.0928      3608.0  "
      ]
     },
     "execution_count": 21,
     "metadata": {},
     "output_type": "execute_result"
    }
   ],
   "source": [
    "## To preview the data\n",
    "sql_df.head()"
   ]
  },
  {
   "cell_type": "code",
   "execution_count": 22,
   "id": "c506cdcc",
   "metadata": {},
   "outputs": [
    {
     "data": {
      "text/plain": [
       "(293, 7)"
      ]
     },
     "execution_count": 22,
     "metadata": {},
     "output_type": "execute_result"
    }
   ],
   "source": [
    "## To know no of rows and columns in the dataframe.\n",
    "sql_df.shape"
   ]
  },
  {
   "cell_type": "code",
   "execution_count": 23,
   "id": "21d3eb14",
   "metadata": {},
   "outputs": [
    {
     "data": {
      "text/plain": [
       "2051"
      ]
     },
     "execution_count": 23,
     "metadata": {},
     "output_type": "execute_result"
    }
   ],
   "source": [
    "## To know no of records in the dataframe.\n",
    "sql_df.size"
   ]
  },
  {
   "cell_type": "code",
   "execution_count": 24,
   "id": "9167007d",
   "metadata": {},
   "outputs": [
    {
     "name": "stdout",
     "output_type": "stream",
     "text": [
      "<class 'pandas.core.frame.DataFrame'>\n",
      "RangeIndex: 293 entries, 0 to 292\n",
      "Data columns (total 7 columns):\n",
      " #   Column          Non-Null Count  Dtype  \n",
      "---  ------          --------------  -----  \n",
      " 0   ProductID       293 non-null    int64  \n",
      " 1   Name            293 non-null    object \n",
      " 2   InhouseProduct  293 non-null    bool   \n",
      " 3   CurrentStock    223 non-null    float64\n",
      " 4   StandardCost    293 non-null    float64\n",
      " 5   SellingPrice    293 non-null    float64\n",
      " 6   TotalSales      231 non-null    float64\n",
      "dtypes: bool(1), float64(4), int64(1), object(1)\n",
      "memory usage: 14.1+ KB\n"
     ]
    }
   ],
   "source": [
    "##  It gives basic information about each columns in the dataframe.\n",
    "sql_df.info()"
   ]
  },
  {
   "cell_type": "code",
   "execution_count": 25,
   "id": "16a58f50",
   "metadata": {
    "scrolled": true
   },
   "outputs": [
    {
     "data": {
      "text/html": [
       "<div>\n",
       "<style scoped>\n",
       "    .dataframe tbody tr th:only-of-type {\n",
       "        vertical-align: middle;\n",
       "    }\n",
       "\n",
       "    .dataframe tbody tr th {\n",
       "        vertical-align: top;\n",
       "    }\n",
       "\n",
       "    .dataframe thead th {\n",
       "        text-align: right;\n",
       "    }\n",
       "</style>\n",
       "<table border=\"1\" class=\"dataframe\">\n",
       "  <thead>\n",
       "    <tr style=\"text-align: right;\">\n",
       "      <th></th>\n",
       "      <th>ProductID</th>\n",
       "      <th>CurrentStock</th>\n",
       "      <th>StandardCost</th>\n",
       "      <th>SellingPrice</th>\n",
       "      <th>TotalSales</th>\n",
       "    </tr>\n",
       "  </thead>\n",
       "  <tbody>\n",
       "    <tr>\n",
       "      <th>count</th>\n",
       "      <td>293.000000</td>\n",
       "      <td>223.000000</td>\n",
       "      <td>293.000000</td>\n",
       "      <td>293.000000</td>\n",
       "      <td>231.000000</td>\n",
       "    </tr>\n",
       "    <tr>\n",
       "      <th>mean</th>\n",
       "      <td>853.000000</td>\n",
       "      <td>348.959641</td>\n",
       "      <td>423.000104</td>\n",
       "      <td>726.527840</td>\n",
       "      <td>6410.870130</td>\n",
       "    </tr>\n",
       "    <tr>\n",
       "      <th>std</th>\n",
       "      <td>84.726029</td>\n",
       "      <td>283.538458</td>\n",
       "      <td>525.093661</td>\n",
       "      <td>882.200218</td>\n",
       "      <td>11583.057073</td>\n",
       "    </tr>\n",
       "    <tr>\n",
       "      <th>min</th>\n",
       "      <td>707.000000</td>\n",
       "      <td>0.000000</td>\n",
       "      <td>0.856500</td>\n",
       "      <td>2.290000</td>\n",
       "      <td>1.000000</td>\n",
       "    </tr>\n",
       "    <tr>\n",
       "      <th>25%</th>\n",
       "      <td>780.000000</td>\n",
       "      <td>148.000000</td>\n",
       "      <td>33.099100</td>\n",
       "      <td>63.500000</td>\n",
       "      <td>704.500000</td>\n",
       "    </tr>\n",
       "    <tr>\n",
       "      <th>50%</th>\n",
       "      <td>853.000000</td>\n",
       "      <td>188.000000</td>\n",
       "      <td>199.375700</td>\n",
       "      <td>333.420000</td>\n",
       "      <td>1448.000000</td>\n",
       "    </tr>\n",
       "    <tr>\n",
       "      <th>75%</th>\n",
       "      <td>926.000000</td>\n",
       "      <td>551.500000</td>\n",
       "      <td>601.743700</td>\n",
       "      <td>1060.463700</td>\n",
       "      <td>3740.000000</td>\n",
       "    </tr>\n",
       "    <tr>\n",
       "      <th>max</th>\n",
       "      <td>999.000000</td>\n",
       "      <td>989.000000</td>\n",
       "      <td>2171.294200</td>\n",
       "      <td>3578.270000</td>\n",
       "      <td>50922.000000</td>\n",
       "    </tr>\n",
       "  </tbody>\n",
       "</table>\n",
       "</div>"
      ],
      "text/plain": [
       "        ProductID  CurrentStock  StandardCost  SellingPrice    TotalSales\n",
       "count  293.000000    223.000000    293.000000    293.000000    231.000000\n",
       "mean   853.000000    348.959641    423.000104    726.527840   6410.870130\n",
       "std     84.726029    283.538458    525.093661    882.200218  11583.057073\n",
       "min    707.000000      0.000000      0.856500      2.290000      1.000000\n",
       "25%    780.000000    148.000000     33.099100     63.500000    704.500000\n",
       "50%    853.000000    188.000000    199.375700    333.420000   1448.000000\n",
       "75%    926.000000    551.500000    601.743700   1060.463700   3740.000000\n",
       "max    999.000000    989.000000   2171.294200   3578.270000  50922.000000"
      ]
     },
     "execution_count": 25,
     "metadata": {},
     "output_type": "execute_result"
    }
   ],
   "source": [
    "##  It provides the statistical summaries of all numerical attributes in the dataframe.\n",
    "sql_df.describe()"
   ]
  },
  {
   "cell_type": "code",
   "execution_count": 26,
   "id": "d7b11a50",
   "metadata": {},
   "outputs": [
    {
     "data": {
      "text/plain": [
       "InhouseProduct\n",
       "True     210\n",
       "False     83\n",
       "Name: count, dtype: int64"
      ]
     },
     "execution_count": 26,
     "metadata": {},
     "output_type": "execute_result"
    }
   ],
   "source": [
    "## To shows how many times True/False appears in that specific column.\n",
    "sql_df.value_counts('InhouseProduct')"
   ]
  },
  {
   "cell_type": "code",
   "execution_count": 27,
   "id": "c4e7ff5b",
   "metadata": {},
   "outputs": [
    {
     "data": {
      "text/plain": [
       "<matplotlib.legend.Legend at 0x1797e1cf730>"
      ]
     },
     "execution_count": 27,
     "metadata": {},
     "output_type": "execute_result"
    },
    {
     "data": {
      "image/png": "[encoded data removed]",
      "text/plain": [
       "<Figure size 800x800 with 1 Axes>"
      ]
     },
     "metadata": {},
     "output_type": "display_data"
    }
   ],
   "source": [
    "## To visualize above result by plotting. It shows how many products are manufactured inhouse or not.\n",
    "\n",
    "counts = sql_df['InhouseProduct'].value_counts()\n",
    "## Plotting\n",
    "figure, ax = plt.subplots(figsize = (8, 8))\n",
    "ax.bar(counts.index.astype(str), counts.values, width=0.4, color=['green', 'red'], label=['Inhouse Product', 'Outsourced Product'])\n",
    "ax.set_xlabel('Inhouse/Outsourced', size = 15)\n",
    "ax.set_ylabel('Total Count', size = 15)\n",
    "ax.set_title('Product Classification', size = 15)\n",
    "ax.legend(loc='upper right')"
   ]
  },
  {
   "cell_type": "markdown",
   "id": "c7c2d952",
   "metadata": {},
   "source": [
    "# Treating Null Values"
   ]
  },
  {
   "cell_type": "code",
   "execution_count": 28,
   "id": "3cbf7fe3",
   "metadata": {},
   "outputs": [
    {
     "data": {
      "text/plain": [
       "ProductID          0\n",
       "Name               0\n",
       "InhouseProduct     0\n",
       "CurrentStock      70\n",
       "StandardCost       0\n",
       "SellingPrice       0\n",
       "TotalSales        62\n",
       "dtype: int64"
      ]
     },
     "execution_count": 28,
     "metadata": {},
     "output_type": "execute_result"
    }
   ],
   "source": [
    "# To find no of null values in the columns\n",
    "sql_df.isnull().sum()"
   ]
  },
  {
   "cell_type": "code",
   "execution_count": 29,
   "id": "b9812bb2",
   "metadata": {},
   "outputs": [],
   "source": [
    "# We can fill the null values with the 'CurrentStock' mean\n",
    "stock_mean = sql_df['CurrentStock'].mean()\n",
    "sql_df['CurrentStock'].fillna(stock_mean, inplace=True)"
   ]
  },
  {
   "cell_type": "code",
   "execution_count": 30,
   "id": "076d9c07",
   "metadata": {},
   "outputs": [],
   "source": [
    "# Drops all rows containing missing data\n",
    "sql_df.dropna(inplace=True)"
   ]
  },
  {
   "cell_type": "markdown",
   "id": "f85b0af2",
   "metadata": {},
   "source": [
    "# Total Sales Analysis"
   ]
  },
  {
   "cell_type": "code",
   "execution_count": 31,
   "id": "a4883547",
   "metadata": {},
   "outputs": [
    {
     "data": {
      "text/html": [
       "<div>\n",
       "<style scoped>\n",
       "    .dataframe tbody tr th:only-of-type {\n",
       "        vertical-align: middle;\n",
       "    }\n",
       "\n",
       "    .dataframe tbody tr th {\n",
       "        vertical-align: top;\n",
       "    }\n",
       "\n",
       "    .dataframe thead th {\n",
       "        text-align: right;\n",
       "    }\n",
       "</style>\n",
       "<table border=\"1\" class=\"dataframe\">\n",
       "  <thead>\n",
       "    <tr style=\"text-align: right;\">\n",
       "      <th></th>\n",
       "      <th>ProductID</th>\n",
       "      <th>TotalSales</th>\n",
       "    </tr>\n",
       "  </thead>\n",
       "  <tbody>\n",
       "    <tr>\n",
       "      <th>0</th>\n",
       "      <td>707</td>\n",
       "      <td>3542.0</td>\n",
       "    </tr>\n",
       "    <tr>\n",
       "      <th>1</th>\n",
       "      <td>708</td>\n",
       "      <td>3609.0</td>\n",
       "    </tr>\n",
       "    <tr>\n",
       "      <th>4</th>\n",
       "      <td>711</td>\n",
       "      <td>3608.0</td>\n",
       "    </tr>\n",
       "    <tr>\n",
       "      <th>5</th>\n",
       "      <td>712</td>\n",
       "      <td>4133.0</td>\n",
       "    </tr>\n",
       "    <tr>\n",
       "      <th>6</th>\n",
       "      <td>713</td>\n",
       "      <td>394.0</td>\n",
       "    </tr>\n",
       "    <tr>\n",
       "      <th>...</th>\n",
       "      <td>...</td>\n",
       "      <td>...</td>\n",
       "    </tr>\n",
       "    <tr>\n",
       "      <th>288</th>\n",
       "      <td>995</td>\n",
       "      <td>12521.0</td>\n",
       "    </tr>\n",
       "    <tr>\n",
       "      <th>289</th>\n",
       "      <td>996</td>\n",
       "      <td>8565.0</td>\n",
       "    </tr>\n",
       "    <tr>\n",
       "      <th>290</th>\n",
       "      <td>997</td>\n",
       "      <td>1134.0</td>\n",
       "    </tr>\n",
       "    <tr>\n",
       "      <th>291</th>\n",
       "      <td>998</td>\n",
       "      <td>2513.0</td>\n",
       "    </tr>\n",
       "    <tr>\n",
       "      <th>292</th>\n",
       "      <td>999</td>\n",
       "      <td>2211.0</td>\n",
       "    </tr>\n",
       "  </tbody>\n",
       "</table>\n",
       "<p>231 rows × 2 columns</p>\n",
       "</div>"
      ],
      "text/plain": [
       "     ProductID  TotalSales\n",
       "0          707      3542.0\n",
       "1          708      3609.0\n",
       "4          711      3608.0\n",
       "5          712      4133.0\n",
       "6          713       394.0\n",
       "..         ...         ...\n",
       "288        995     12521.0\n",
       "289        996      8565.0\n",
       "290        997      1134.0\n",
       "291        998      2513.0\n",
       "292        999      2211.0\n",
       "\n",
       "[231 rows x 2 columns]"
      ]
     },
     "execution_count": 31,
     "metadata": {},
     "output_type": "execute_result"
    }
   ],
   "source": [
    "sql_df[['ProductID', 'TotalSales']]"
   ]
  },
  {
   "cell_type": "code",
   "execution_count": 32,
   "id": "50c79d59",
   "metadata": {},
   "outputs": [
    {
     "data": {
      "text/plain": [
       "Text(0.5, 1.0, 'Sales Distribution')"
      ]
     },
     "execution_count": 32,
     "metadata": {},
     "output_type": "execute_result"
    },
    {
     "data": {
      "image/png": "[encoded data removed]",
      "text/plain": [
       "<Figure size 800x800 with 1 Axes>"
      ]
     },
     "metadata": {},
     "output_type": "display_data"
    }
   ],
   "source": [
    "## To visualize the TotalSales of all the products by plottting.\n",
    "figure, ax = plt.subplots(figsize = (8, 8))  \n",
    "ax.scatter(sql_df['ProductID'],sql_df['TotalSales'])\n",
    "ax.set_xlabel('Product ID', size = 15)\n",
    "ax.set_ylabel('Total No Of Sales', size = 15)\n",
    "ax.set_title('Sales Distribution', size = 15)"
   ]
  },
  {
   "cell_type": "code",
   "execution_count": 33,
   "id": "ed2d31bc",
   "metadata": {},
   "outputs": [],
   "source": [
    "## To set 'ProductID' as an index. so that we can easily use .loc method to put our needed condition.\n",
    "sql_df.set_index('ProductID',  inplace=True)"
   ]
  },
  {
   "cell_type": "code",
   "execution_count": 34,
   "id": "b7cedbd6",
   "metadata": {},
   "outputs": [],
   "source": [
    "##sql_df.loc[900:950, :]"
   ]
  },
  {
   "cell_type": "code",
   "execution_count": 35,
   "id": "35db28d4",
   "metadata": {},
   "outputs": [
    {
     "data": {
      "text/html": [
       "<div>\n",
       "<style scoped>\n",
       "    .dataframe tbody tr th:only-of-type {\n",
       "        vertical-align: middle;\n",
       "    }\n",
       "\n",
       "    .dataframe tbody tr th {\n",
       "        vertical-align: top;\n",
       "    }\n",
       "\n",
       "    .dataframe thead th {\n",
       "        text-align: right;\n",
       "    }\n",
       "</style>\n",
       "<table border=\"1\" class=\"dataframe\">\n",
       "  <thead>\n",
       "    <tr style=\"text-align: right;\">\n",
       "      <th></th>\n",
       "      <th>Name</th>\n",
       "      <th>InhouseProduct</th>\n",
       "      <th>CurrentStock</th>\n",
       "      <th>StandardCost</th>\n",
       "      <th>SellingPrice</th>\n",
       "      <th>TotalSales</th>\n",
       "    </tr>\n",
       "    <tr>\n",
       "      <th>ProductID</th>\n",
       "      <th></th>\n",
       "      <th></th>\n",
       "      <th></th>\n",
       "      <th></th>\n",
       "      <th></th>\n",
       "      <th></th>\n",
       "    </tr>\n",
       "  </thead>\n",
       "  <tbody>\n",
       "    <tr>\n",
       "      <th>907</th>\n",
       "      <td>Rear Brakes</td>\n",
       "      <td>False</td>\n",
       "      <td>723.0</td>\n",
       "      <td>47.2860</td>\n",
       "      <td>106.50</td>\n",
       "      <td>24937.0</td>\n",
       "    </tr>\n",
       "    <tr>\n",
       "      <th>908</th>\n",
       "      <td>LL Mountain Seat/Saddle</td>\n",
       "      <td>False</td>\n",
       "      <td>809.0</td>\n",
       "      <td>12.0413</td>\n",
       "      <td>27.12</td>\n",
       "      <td>29404.0</td>\n",
       "    </tr>\n",
       "    <tr>\n",
       "      <th>909</th>\n",
       "      <td>ML Mountain Seat/Saddle</td>\n",
       "      <td>False</td>\n",
       "      <td>422.0</td>\n",
       "      <td>17.3782</td>\n",
       "      <td>39.14</td>\n",
       "      <td>29555.0</td>\n",
       "    </tr>\n",
       "    <tr>\n",
       "      <th>910</th>\n",
       "      <td>HL Mountain Seat/Saddle</td>\n",
       "      <td>False</td>\n",
       "      <td>355.0</td>\n",
       "      <td>23.3722</td>\n",
       "      <td>52.64</td>\n",
       "      <td>35051.0</td>\n",
       "    </tr>\n",
       "    <tr>\n",
       "      <th>911</th>\n",
       "      <td>LL Road Seat/Saddle</td>\n",
       "      <td>False</td>\n",
       "      <td>906.0</td>\n",
       "      <td>12.0413</td>\n",
       "      <td>27.12</td>\n",
       "      <td>34659.0</td>\n",
       "    </tr>\n",
       "    <tr>\n",
       "      <th>912</th>\n",
       "      <td>ML Road Seat/Saddle</td>\n",
       "      <td>False</td>\n",
       "      <td>901.0</td>\n",
       "      <td>17.3782</td>\n",
       "      <td>39.14</td>\n",
       "      <td>34650.0</td>\n",
       "    </tr>\n",
       "    <tr>\n",
       "      <th>913</th>\n",
       "      <td>HL Road Seat/Saddle</td>\n",
       "      <td>False</td>\n",
       "      <td>467.0</td>\n",
       "      <td>23.3722</td>\n",
       "      <td>52.64</td>\n",
       "      <td>30304.0</td>\n",
       "    </tr>\n",
       "    <tr>\n",
       "      <th>914</th>\n",
       "      <td>LL Touring Seat/Saddle</td>\n",
       "      <td>False</td>\n",
       "      <td>801.0</td>\n",
       "      <td>12.0413</td>\n",
       "      <td>27.12</td>\n",
       "      <td>19847.0</td>\n",
       "    </tr>\n",
       "    <tr>\n",
       "      <th>915</th>\n",
       "      <td>ML Touring Seat/Saddle</td>\n",
       "      <td>False</td>\n",
       "      <td>402.0</td>\n",
       "      <td>17.3782</td>\n",
       "      <td>39.14</td>\n",
       "      <td>19853.0</td>\n",
       "    </tr>\n",
       "    <tr>\n",
       "      <th>916</th>\n",
       "      <td>HL Touring Seat/Saddle</td>\n",
       "      <td>False</td>\n",
       "      <td>989.0</td>\n",
       "      <td>23.3722</td>\n",
       "      <td>52.64</td>\n",
       "      <td>19578.0</td>\n",
       "    </tr>\n",
       "    <tr>\n",
       "      <th>921</th>\n",
       "      <td>Mountain Tire Tube</td>\n",
       "      <td>False</td>\n",
       "      <td>529.0</td>\n",
       "      <td>1.8663</td>\n",
       "      <td>4.99</td>\n",
       "      <td>27564.0</td>\n",
       "    </tr>\n",
       "    <tr>\n",
       "      <th>922</th>\n",
       "      <td>Road Tire Tube</td>\n",
       "      <td>False</td>\n",
       "      <td>505.0</td>\n",
       "      <td>1.4923</td>\n",
       "      <td>3.99</td>\n",
       "      <td>20299.0</td>\n",
       "    </tr>\n",
       "    <tr>\n",
       "      <th>923</th>\n",
       "      <td>Touring Tire Tube</td>\n",
       "      <td>False</td>\n",
       "      <td>502.0</td>\n",
       "      <td>1.8663</td>\n",
       "      <td>4.99</td>\n",
       "      <td>20082.0</td>\n",
       "    </tr>\n",
       "    <tr>\n",
       "      <th>928</th>\n",
       "      <td>LL Mountain Tire</td>\n",
       "      <td>False</td>\n",
       "      <td>609.0</td>\n",
       "      <td>9.3463</td>\n",
       "      <td>24.99</td>\n",
       "      <td>44785.0</td>\n",
       "    </tr>\n",
       "    <tr>\n",
       "      <th>929</th>\n",
       "      <td>ML Mountain Tire</td>\n",
       "      <td>False</td>\n",
       "      <td>669.0</td>\n",
       "      <td>11.2163</td>\n",
       "      <td>29.99</td>\n",
       "      <td>45068.0</td>\n",
       "    </tr>\n",
       "    <tr>\n",
       "      <th>930</th>\n",
       "      <td>HL Mountain Tire</td>\n",
       "      <td>False</td>\n",
       "      <td>499.0</td>\n",
       "      <td>13.0900</td>\n",
       "      <td>35.00</td>\n",
       "      <td>45262.0</td>\n",
       "    </tr>\n",
       "    <tr>\n",
       "      <th>931</th>\n",
       "      <td>LL Road Tire</td>\n",
       "      <td>False</td>\n",
       "      <td>488.0</td>\n",
       "      <td>8.0373</td>\n",
       "      <td>21.49</td>\n",
       "      <td>43845.0</td>\n",
       "    </tr>\n",
       "    <tr>\n",
       "      <th>932</th>\n",
       "      <td>ML Road Tire</td>\n",
       "      <td>False</td>\n",
       "      <td>574.0</td>\n",
       "      <td>9.3463</td>\n",
       "      <td>24.99</td>\n",
       "      <td>43738.0</td>\n",
       "    </tr>\n",
       "    <tr>\n",
       "      <th>933</th>\n",
       "      <td>HL Road Tire</td>\n",
       "      <td>False</td>\n",
       "      <td>527.0</td>\n",
       "      <td>12.1924</td>\n",
       "      <td>32.60</td>\n",
       "      <td>36499.0</td>\n",
       "    </tr>\n",
       "    <tr>\n",
       "      <th>934</th>\n",
       "      <td>Touring Tire</td>\n",
       "      <td>False</td>\n",
       "      <td>482.0</td>\n",
       "      <td>10.8423</td>\n",
       "      <td>28.99</td>\n",
       "      <td>36610.0</td>\n",
       "    </tr>\n",
       "    <tr>\n",
       "      <th>935</th>\n",
       "      <td>LL Mountain Pedal</td>\n",
       "      <td>False</td>\n",
       "      <td>512.0</td>\n",
       "      <td>17.9776</td>\n",
       "      <td>40.49</td>\n",
       "      <td>50922.0</td>\n",
       "    </tr>\n",
       "    <tr>\n",
       "      <th>936</th>\n",
       "      <td>ML Mountain Pedal</td>\n",
       "      <td>False</td>\n",
       "      <td>507.0</td>\n",
       "      <td>27.5680</td>\n",
       "      <td>62.09</td>\n",
       "      <td>50869.0</td>\n",
       "    </tr>\n",
       "    <tr>\n",
       "      <th>937</th>\n",
       "      <td>HL Mountain Pedal</td>\n",
       "      <td>False</td>\n",
       "      <td>503.0</td>\n",
       "      <td>35.9596</td>\n",
       "      <td>80.99</td>\n",
       "      <td>25931.0</td>\n",
       "    </tr>\n",
       "    <tr>\n",
       "      <th>938</th>\n",
       "      <td>LL Road Pedal</td>\n",
       "      <td>False</td>\n",
       "      <td>498.0</td>\n",
       "      <td>17.9776</td>\n",
       "      <td>40.49</td>\n",
       "      <td>45208.0</td>\n",
       "    </tr>\n",
       "    <tr>\n",
       "      <th>939</th>\n",
       "      <td>ML Road Pedal</td>\n",
       "      <td>False</td>\n",
       "      <td>494.0</td>\n",
       "      <td>27.5680</td>\n",
       "      <td>62.09</td>\n",
       "      <td>45062.0</td>\n",
       "    </tr>\n",
       "    <tr>\n",
       "      <th>940</th>\n",
       "      <td>HL Road Pedal</td>\n",
       "      <td>False</td>\n",
       "      <td>906.0</td>\n",
       "      <td>35.9596</td>\n",
       "      <td>80.99</td>\n",
       "      <td>21413.0</td>\n",
       "    </tr>\n",
       "    <tr>\n",
       "      <th>941</th>\n",
       "      <td>Touring Pedal</td>\n",
       "      <td>False</td>\n",
       "      <td>885.0</td>\n",
       "      <td>35.9596</td>\n",
       "      <td>80.99</td>\n",
       "      <td>24845.0</td>\n",
       "    </tr>\n",
       "    <tr>\n",
       "      <th>945</th>\n",
       "      <td>Front Derailleur</td>\n",
       "      <td>True</td>\n",
       "      <td>853.0</td>\n",
       "      <td>40.6216</td>\n",
       "      <td>91.49</td>\n",
       "      <td>37975.0</td>\n",
       "    </tr>\n",
       "    <tr>\n",
       "      <th>948</th>\n",
       "      <td>Front Brakes</td>\n",
       "      <td>False</td>\n",
       "      <td>767.0</td>\n",
       "      <td>47.2860</td>\n",
       "      <td>106.50</td>\n",
       "      <td>25385.0</td>\n",
       "    </tr>\n",
       "    <tr>\n",
       "      <th>950</th>\n",
       "      <td>ML Crankset</td>\n",
       "      <td>True</td>\n",
       "      <td>905.0</td>\n",
       "      <td>113.8816</td>\n",
       "      <td>256.49</td>\n",
       "      <td>19642.0</td>\n",
       "    </tr>\n",
       "  </tbody>\n",
       "</table>\n",
       "</div>"
      ],
      "text/plain": [
       "                              Name  InhouseProduct  CurrentStock  \\\n",
       "ProductID                                                          \n",
       "907                    Rear Brakes           False         723.0   \n",
       "908        LL Mountain Seat/Saddle           False         809.0   \n",
       "909        ML Mountain Seat/Saddle           False         422.0   \n",
       "910        HL Mountain Seat/Saddle           False         355.0   \n",
       "911            LL Road Seat/Saddle           False         906.0   \n",
       "912            ML Road Seat/Saddle           False         901.0   \n",
       "913            HL Road Seat/Saddle           False         467.0   \n",
       "914         LL Touring Seat/Saddle           False         801.0   \n",
       "915         ML Touring Seat/Saddle           False         402.0   \n",
       "916         HL Touring Seat/Saddle           False         989.0   \n",
       "921             Mountain Tire Tube           False         529.0   \n",
       "922                 Road Tire Tube           False         505.0   \n",
       "923              Touring Tire Tube           False         502.0   \n",
       "928               LL Mountain Tire           False         609.0   \n",
       "929               ML Mountain Tire           False         669.0   \n",
       "930               HL Mountain Tire           False         499.0   \n",
       "931                   LL Road Tire           False         488.0   \n",
       "932                   ML Road Tire           False         574.0   \n",
       "933                   HL Road Tire           False         527.0   \n",
       "934                   Touring Tire           False         482.0   \n",
       "935              LL Mountain Pedal           False         512.0   \n",
       "936              ML Mountain Pedal           False         507.0   \n",
       "937              HL Mountain Pedal           False         503.0   \n",
       "938                  LL Road Pedal           False         498.0   \n",
       "939                  ML Road Pedal           False         494.0   \n",
       "940                  HL Road Pedal           False         906.0   \n",
       "941                  Touring Pedal           False         885.0   \n",
       "945               Front Derailleur            True         853.0   \n",
       "948                   Front Brakes           False         767.0   \n",
       "950                    ML Crankset            True         905.0   \n",
       "\n",
       "           StandardCost  SellingPrice  TotalSales  \n",
       "ProductID                                          \n",
       "907             47.2860        106.50     24937.0  \n",
       "908             12.0413         27.12     29404.0  \n",
       "909             17.3782         39.14     29555.0  \n",
       "910             23.3722         52.64     35051.0  \n",
       "911             12.0413         27.12     34659.0  \n",
       "912             17.3782         39.14     34650.0  \n",
       "913             23.3722         52.64     30304.0  \n",
       "914             12.0413         27.12     19847.0  \n",
       "915             17.3782         39.14     19853.0  \n",
       "916             23.3722         52.64     19578.0  \n",
       "921              1.8663          4.99     27564.0  \n",
       "922              1.4923          3.99     20299.0  \n",
       "923              1.8663          4.99     20082.0  \n",
       "928              9.3463         24.99     44785.0  \n",
       "929             11.2163         29.99     45068.0  \n",
       "930             13.0900         35.00     45262.0  \n",
       "931              8.0373         21.49     43845.0  \n",
       "932              9.3463         24.99     43738.0  \n",
       "933             12.1924         32.60     36499.0  \n",
       "934             10.8423         28.99     36610.0  \n",
       "935             17.9776         40.49     50922.0  \n",
       "936             27.5680         62.09     50869.0  \n",
       "937             35.9596         80.99     25931.0  \n",
       "938             17.9776         40.49     45208.0  \n",
       "939             27.5680         62.09     45062.0  \n",
       "940             35.9596         80.99     21413.0  \n",
       "941             35.9596         80.99     24845.0  \n",
       "945             40.6216         91.49     37975.0  \n",
       "948             47.2860        106.50     25385.0  \n",
       "950            113.8816        256.49     19642.0  "
      ]
     },
     "execution_count": 35,
     "metadata": {},
     "output_type": "execute_result"
    }
   ],
   "source": [
    "## Fetching the data whose ProductID between 900 and 950. and also total sales above 19000.\n",
    "## because these data points are high sales in that chart. so that we can analyze furthur.\n",
    "\n",
    "sql_df2 = sql_df.loc[(sql_df.index >= 900) & (sql_df.index <= 950) & (sql_df['TotalSales'] > 19000)]\n",
    "sql_df2"
   ]
  },
  {
   "cell_type": "code",
   "execution_count": 36,
   "id": "cb7cdfff",
   "metadata": {},
   "outputs": [
    {
     "data": {
      "text/plain": [
       "InhouseProduct\n",
       "False    28\n",
       "True      2\n",
       "Name: count, dtype: int64"
      ]
     },
     "execution_count": 36,
     "metadata": {},
     "output_type": "execute_result"
    }
   ],
   "source": [
    "## To check no of inhouse products after certain condition passed.\n",
    "sql_df2.value_counts('InhouseProduct')"
   ]
  },
  {
   "cell_type": "code",
   "execution_count": 37,
   "id": "8519660b",
   "metadata": {
    "scrolled": true
   },
   "outputs": [
    {
     "data": {
      "text/plain": [
       "<matplotlib.legend.Legend at 0x1790029c250>"
      ]
     },
     "execution_count": 37,
     "metadata": {},
     "output_type": "execute_result"
    },
    {
     "data": {
      "image/png": "[encoded data removed]",
      "text/plain": [
       "<Figure size 600x600 with 1 Axes>"
      ]
     },
     "metadata": {},
     "output_type": "display_data"
    }
   ],
   "source": [
    "## To visualize above result by plotting. It shows how many products are manufactured inhouse or not.\n",
    "counts2 = sql_df2['InhouseProduct'].value_counts()\n",
    "\n",
    "## Plotting\n",
    "figure, ax = plt.subplots(figsize = (6, 6))\n",
    "ax.bar(counts2.index.astype(str), counts2.values, width=0.4, color=['green', 'red'], label=['Outsourced Product', 'Inhouse Product'])\n",
    "ax.set_xlabel('Inhouse/Outsourced', size = 15)\n",
    "ax.set_ylabel('Total Count', size = 15)\n",
    "ax.set_title('Product Classification', size = 15)\n",
    "ax.legend(loc='upper right')"
   ]
  },
  {
   "cell_type": "markdown",
   "id": "79bb71ae",
   "metadata": {},
   "source": [
    "# Profit Percentage Analysis"
   ]
  },
  {
   "cell_type": "code",
   "execution_count": 38,
   "id": "aa442157",
   "metadata": {},
   "outputs": [
    {
     "data": {
      "text/html": [
       "<div>\n",
       "<style scoped>\n",
       "    .dataframe tbody tr th:only-of-type {\n",
       "        vertical-align: middle;\n",
       "    }\n",
       "\n",
       "    .dataframe tbody tr th {\n",
       "        vertical-align: top;\n",
       "    }\n",
       "\n",
       "    .dataframe thead th {\n",
       "        text-align: right;\n",
       "    }\n",
       "</style>\n",
       "<table border=\"1\" class=\"dataframe\">\n",
       "  <thead>\n",
       "    <tr style=\"text-align: right;\">\n",
       "      <th></th>\n",
       "      <th>StandardCost</th>\n",
       "      <th>SellingPrice</th>\n",
       "    </tr>\n",
       "    <tr>\n",
       "      <th>ProductID</th>\n",
       "      <th></th>\n",
       "      <th></th>\n",
       "    </tr>\n",
       "  </thead>\n",
       "  <tbody>\n",
       "    <tr>\n",
       "      <th>707</th>\n",
       "      <td>12.9974</td>\n",
       "      <td>34.0928</td>\n",
       "    </tr>\n",
       "    <tr>\n",
       "      <th>708</th>\n",
       "      <td>12.9974</td>\n",
       "      <td>34.0928</td>\n",
       "    </tr>\n",
       "    <tr>\n",
       "      <th>711</th>\n",
       "      <td>12.9974</td>\n",
       "      <td>34.0928</td>\n",
       "    </tr>\n",
       "    <tr>\n",
       "      <th>712</th>\n",
       "      <td>5.9524</td>\n",
       "      <td>8.7594</td>\n",
       "    </tr>\n",
       "    <tr>\n",
       "      <th>713</th>\n",
       "      <td>33.0991</td>\n",
       "      <td>48.7082</td>\n",
       "    </tr>\n",
       "    <tr>\n",
       "      <th>...</th>\n",
       "      <td>...</td>\n",
       "      <td>...</td>\n",
       "    </tr>\n",
       "    <tr>\n",
       "      <th>995</th>\n",
       "      <td>44.9506</td>\n",
       "      <td>101.2400</td>\n",
       "    </tr>\n",
       "    <tr>\n",
       "      <th>996</th>\n",
       "      <td>53.9416</td>\n",
       "      <td>121.4900</td>\n",
       "    </tr>\n",
       "    <tr>\n",
       "      <th>997</th>\n",
       "      <td>343.6496</td>\n",
       "      <td>539.9900</td>\n",
       "    </tr>\n",
       "    <tr>\n",
       "      <th>998</th>\n",
       "      <td>343.6496</td>\n",
       "      <td>539.9900</td>\n",
       "    </tr>\n",
       "    <tr>\n",
       "      <th>999</th>\n",
       "      <td>343.6496</td>\n",
       "      <td>539.9900</td>\n",
       "    </tr>\n",
       "  </tbody>\n",
       "</table>\n",
       "<p>231 rows × 2 columns</p>\n",
       "</div>"
      ],
      "text/plain": [
       "           StandardCost  SellingPrice\n",
       "ProductID                            \n",
       "707             12.9974       34.0928\n",
       "708             12.9974       34.0928\n",
       "711             12.9974       34.0928\n",
       "712              5.9524        8.7594\n",
       "713             33.0991       48.7082\n",
       "...                 ...           ...\n",
       "995             44.9506      101.2400\n",
       "996             53.9416      121.4900\n",
       "997            343.6496      539.9900\n",
       "998            343.6496      539.9900\n",
       "999            343.6496      539.9900\n",
       "\n",
       "[231 rows x 2 columns]"
      ]
     },
     "execution_count": 38,
     "metadata": {},
     "output_type": "execute_result"
    }
   ],
   "source": [
    "## Selecting the columns from the dataframe\n",
    "sql_df[['StandardCost', 'SellingPrice']]"
   ]
  },
  {
   "cell_type": "code",
   "execution_count": 39,
   "id": "6b95a397",
   "metadata": {},
   "outputs": [],
   "source": [
    "## Subtracting to get the profit and create new column 'Profit'\n",
    "sql_df['Profit'] = sql_df['SellingPrice'].sub(sql_df['StandardCost'])"
   ]
  },
  {
   "cell_type": "code",
   "execution_count": 40,
   "id": "3f1341cc",
   "metadata": {},
   "outputs": [],
   "source": [
    "## To get the profit percentage for each product\n",
    "sql_df['ProfitPercentage'] = sql_df.apply(lambda row: ((row['Profit'])/row['StandardCost'])*100, axis=1)"
   ]
  },
  {
   "cell_type": "code",
   "execution_count": 41,
   "id": "ed9d05f9",
   "metadata": {},
   "outputs": [
    {
     "data": {
      "text/html": [
       "<div>\n",
       "<style scoped>\n",
       "    .dataframe tbody tr th:only-of-type {\n",
       "        vertical-align: middle;\n",
       "    }\n",
       "\n",
       "    .dataframe tbody tr th {\n",
       "        vertical-align: top;\n",
       "    }\n",
       "\n",
       "    .dataframe thead th {\n",
       "        text-align: right;\n",
       "    }\n",
       "</style>\n",
       "<table border=\"1\" class=\"dataframe\">\n",
       "  <thead>\n",
       "    <tr style=\"text-align: right;\">\n",
       "      <th></th>\n",
       "      <th>Name</th>\n",
       "      <th>InhouseProduct</th>\n",
       "      <th>CurrentStock</th>\n",
       "      <th>StandardCost</th>\n",
       "      <th>SellingPrice</th>\n",
       "      <th>TotalSales</th>\n",
       "      <th>Profit</th>\n",
       "      <th>ProfitPercentage</th>\n",
       "    </tr>\n",
       "    <tr>\n",
       "      <th>ProductID</th>\n",
       "      <th></th>\n",
       "      <th></th>\n",
       "      <th></th>\n",
       "      <th></th>\n",
       "      <th></th>\n",
       "      <th></th>\n",
       "      <th></th>\n",
       "      <th></th>\n",
       "    </tr>\n",
       "  </thead>\n",
       "  <tbody>\n",
       "    <tr>\n",
       "      <th>707</th>\n",
       "      <td>Sport-100 Helmet, Red</td>\n",
       "      <td>False</td>\n",
       "      <td>288.0</td>\n",
       "      <td>12.9974</td>\n",
       "      <td>34.0928</td>\n",
       "      <td>3542.0</td>\n",
       "      <td>21.0954</td>\n",
       "      <td>162.304769</td>\n",
       "    </tr>\n",
       "    <tr>\n",
       "      <th>708</th>\n",
       "      <td>Sport-100 Helmet, Black</td>\n",
       "      <td>False</td>\n",
       "      <td>324.0</td>\n",
       "      <td>12.9974</td>\n",
       "      <td>34.0928</td>\n",
       "      <td>3609.0</td>\n",
       "      <td>21.0954</td>\n",
       "      <td>162.304769</td>\n",
       "    </tr>\n",
       "    <tr>\n",
       "      <th>711</th>\n",
       "      <td>Sport-100 Helmet, Blue</td>\n",
       "      <td>False</td>\n",
       "      <td>216.0</td>\n",
       "      <td>12.9974</td>\n",
       "      <td>34.0928</td>\n",
       "      <td>3608.0</td>\n",
       "      <td>21.0954</td>\n",
       "      <td>162.304769</td>\n",
       "    </tr>\n",
       "    <tr>\n",
       "      <th>712</th>\n",
       "      <td>AWC Logo Cap</td>\n",
       "      <td>False</td>\n",
       "      <td>288.0</td>\n",
       "      <td>5.9524</td>\n",
       "      <td>8.7594</td>\n",
       "      <td>4133.0</td>\n",
       "      <td>2.8070</td>\n",
       "      <td>47.157449</td>\n",
       "    </tr>\n",
       "    <tr>\n",
       "      <th>713</th>\n",
       "      <td>Long-Sleeve Logo Jersey, S</td>\n",
       "      <td>False</td>\n",
       "      <td>144.0</td>\n",
       "      <td>33.0991</td>\n",
       "      <td>48.7082</td>\n",
       "      <td>394.0</td>\n",
       "      <td>15.6091</td>\n",
       "      <td>47.158684</td>\n",
       "    </tr>\n",
       "  </tbody>\n",
       "</table>\n",
       "</div>"
      ],
      "text/plain": [
       "                                 Name  InhouseProduct  CurrentStock  \\\n",
       "ProductID                                                             \n",
       "707             Sport-100 Helmet, Red           False         288.0   \n",
       "708           Sport-100 Helmet, Black           False         324.0   \n",
       "711            Sport-100 Helmet, Blue           False         216.0   \n",
       "712                      AWC Logo Cap           False         288.0   \n",
       "713        Long-Sleeve Logo Jersey, S           False         144.0   \n",
       "\n",
       "           StandardCost  SellingPrice  TotalSales   Profit  ProfitPercentage  \n",
       "ProductID                                                                     \n",
       "707             12.9974       34.0928      3542.0  21.0954        162.304769  \n",
       "708             12.9974       34.0928      3609.0  21.0954        162.304769  \n",
       "711             12.9974       34.0928      3608.0  21.0954        162.304769  \n",
       "712              5.9524        8.7594      4133.0   2.8070         47.157449  \n",
       "713             33.0991       48.7082       394.0  15.6091         47.158684  "
      ]
     },
     "execution_count": 41,
     "metadata": {},
     "output_type": "execute_result"
    }
   ],
   "source": [
    "## preview. new columns are created.\n",
    "sql_df.head()"
   ]
  },
  {
   "cell_type": "code",
   "execution_count": null,
   "id": "4be73ae7",
   "metadata": {},
   "outputs": [],
   "source": []
  },
  {
   "cell_type": "code",
   "execution_count": 42,
   "id": "ceafada4",
   "metadata": {},
   "outputs": [
    {
     "data": {
      "image/png": "[encoded data removed]",
      "text/plain": [
       "<Figure size 800x800 with 1 Axes>"
      ]
     },
     "metadata": {},
     "output_type": "display_data"
    }
   ],
   "source": [
    "# Creating a histogram\n",
    "figure, ax = plt.subplots(figsize=(8, 8))\n",
    "ax.hist(sql_df['ProfitPercentage'], bins=20, color='skyblue', edgecolor='black', alpha=0.7)\n",
    "ax.set_xlabel('Profit Percentage', size=15)\n",
    "ax.set_ylabel('Frequency', size=15)\n",
    "ax.set_title('Profit Percentage Distribution', size=15)\n",
    "plt.show()"
   ]
  },
  {
   "cell_type": "code",
   "execution_count": 43,
   "id": "10f7f3a2",
   "metadata": {},
   "outputs": [],
   "source": [
    "#Profit_Percentage = sql_df.ProfitPercentage\n",
    "#ci = stats.norm.interval(0.95, loc=np.mean(Profit_Percentage), scale=stats.sem(Profit_Percentage))\n",
    "\n",
    "#print(f\"Confidence Interval for Average Profit Percentage: {ci}\")"
   ]
  },
  {
   "cell_type": "markdown",
   "id": "4a59874e",
   "metadata": {},
   "source": [
    "## Confidence interval for two different group"
   ]
  },
  {
   "cell_type": "code",
   "execution_count": 44,
   "id": "514d4d58",
   "metadata": {},
   "outputs": [],
   "source": [
    "## confidence interval for the whole data gives (93.46, 103.47) which is illogical if you check above chart.\n",
    "## To get precise confidence interval, we divide into two groups and then calculated."
   ]
  },
  {
   "cell_type": "code",
   "execution_count": 45,
   "id": "ac573410",
   "metadata": {},
   "outputs": [
    {
     "name": "stdout",
     "output_type": "stream",
     "text": [
      "Confidence Interval for Average Profit Percentage: (69.14707382706457, 72.61772611320846)\n"
     ]
    }
   ],
   "source": [
    "## Group 1 - calculate confidence interval for the profit percentage between 50 and 100\n",
    "\n",
    "sql_df3 = sql_df.loc[(sql_df['ProfitPercentage'] >= 50) & (sql_df['ProfitPercentage'] <= 100)]\n",
    "Profit_Percentage1 = sql_df3.ProfitPercentage\n",
    "\n",
    "ci = stats.norm.interval(0.95, loc=np.mean(Profit_Percentage1), scale=stats.sem(Profit_Percentage1))\n",
    "\n",
    "print(f\"Confidence Interval for Average Profit Percentage: {ci}\")"
   ]
  },
  {
   "cell_type": "code",
   "execution_count": 46,
   "id": "28f1f7dd",
   "metadata": {},
   "outputs": [
    {
     "name": "stdout",
     "output_type": "stream",
     "text": [
      "Confidence Interval for Average Profit Percentage: (137.11215113897947, 144.75013922199554)\n"
     ]
    }
   ],
   "source": [
    "## Group 2- calculate confidence interval for the profit percentage between 100 and 180\n",
    "\n",
    "sql_df4 = sql_df.loc[(sql_df['ProfitPercentage'] >= 100) & (sql_df['ProfitPercentage'] <= 180)]\n",
    "Profit_Percentage2 = sql_df4.ProfitPercentage\n",
    "\n",
    "ci = stats.norm.interval(0.95, loc=np.mean(Profit_Percentage2), scale=stats.sem(Profit_Percentage2))\n",
    "\n",
    "print(f\"Confidence Interval for Average Profit Percentage: {ci}\")"
   ]
  },
  {
   "cell_type": "markdown",
   "id": "b17a927e",
   "metadata": {},
   "source": [
    "## Difference between two groups mean"
   ]
  },
  {
   "cell_type": "code",
   "execution_count": 47,
   "id": "7a7835f4",
   "metadata": {},
   "outputs": [
    {
     "name": "stdout",
     "output_type": "stream",
     "text": [
      "95% Confidence Interval for the Difference: (65.79927492391835, 74.29821549678363)\n"
     ]
    }
   ],
   "source": [
    "# Calculate statistics for each group\n",
    "mean1, std1, size1 = sql_df3['ProfitPercentage'].mean(), sql_df3['ProfitPercentage'].std(ddof=1), len(sql_df3['ProfitPercentage'])\n",
    "mean2, std2, size2 = sql_df4['ProfitPercentage'].mean(), sql_df4['ProfitPercentage'].std(ddof=1), len(sql_df4['ProfitPercentage'])\n",
    "\n",
    "# Set the confidence level and calculate the critical value\n",
    "confidence_level = 0.95\n",
    "degrees_of_freedom = min(size1 - 1, size2 - 1)\n",
    "critical_value = stats.t.ppf((1 + confidence_level) / 2, degrees_of_freedom)\n",
    "\n",
    "# Calculate the standard error of the difference between means\n",
    "standard_error_diff = np.sqrt((std1**2 / size1) + (std2**2 / size2))\n",
    "\n",
    "margin_of_error = critical_value * standard_error_diff\n",
    "confidence_interval = (mean2 - mean1 - margin_of_error, mean2 - mean1 + margin_of_error)\n",
    "\n",
    "print(f\"95% Confidence Interval for the Difference: {confidence_interval}\")"
   ]
  },
  {
   "cell_type": "code",
   "execution_count": null,
   "id": "ee8c9b05",
   "metadata": {},
   "outputs": [],
   "source": []
  }
 ],
 "metadata": {
  "kernelspec": {
   "display_name": "Python 3 (ipykernel)",
   "language": "python",
   "name": "python3"
  },
  "language_info": {
   "codemirror_mode": {
    "name": "ipython",
    "version": 3
   },
   "file_extension": ".py",
   "mimetype": "text/x-python",
   "name": "python",
   "nbconvert_exporter": "python",
   "pygments_lexer": "ipython3",
   "version": "3.9.18"
  }
 },
 "nbformat": 4,
 "nbformat_minor": 5
}
